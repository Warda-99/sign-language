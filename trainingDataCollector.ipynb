{
 "cells": [
  {
   "cell_type": "code",
   "execution_count": 1,
   "metadata": {},
   "outputs": [],
   "source": [
    "#pip install tensorflow opencv-python mediapipe scikit-learn matplotlib"
   ]
  },
  {
   "cell_type": "code",
   "execution_count": 1,
   "metadata": {},
   "outputs": [],
   "source": [
    "import cv2\n",
    "import numpy as np\n",
    "import os\n",
    "import mediapipe as mp"
   ]
  },
  {
   "cell_type": "code",
   "execution_count": 2,
   "metadata": {},
   "outputs": [],
   "source": [
    "mp_holistic = mp.solutions.holistic     # Holistic model\n",
    "mp_drawing = mp.solutions.drawing_utils # Drawing utilities"
   ]
  },
  {
   "cell_type": "code",
   "execution_count": 3,
   "metadata": {},
   "outputs": [],
   "source": [
    "def mediapipe_detection(image, detection):\n",
    "    try:\n",
    "        image = cv2.cvtColor(image, cv2.COLOR_BGR2RGB)  # BGR to RGB\n",
    "        image.flags.writeable = False                   # Ustawienie obrazu jako niezapisywalnego\n",
    "        results = detection.process(image)              # Przeprowadzenie detekcji\n",
    "        image.flags.writeable = True                    # Ustawienie obrazu jako zapisywalnego\n",
    "        image = cv2.cvtColor(image, cv2.COLOR_RGB2BGR)  # RGB to BGR\n",
    "    except Exception as e:\n",
    "        print(f\"Error during mediapipe detection: {e}\")\n",
    "        return None, None\n",
    "    return image, results"
   ]
  },
  {
   "cell_type": "code",
   "execution_count": 4,
   "metadata": {},
   "outputs": [],
   "source": [
    "def draw_styled_landmarks(image, results):\n",
    "    \n",
    "    # Poza\n",
    "    mp_drawing.draw_landmarks(image, results.pose_landmarks, mp_holistic.POSE_CONNECTIONS,\n",
    "                             mp_drawing.DrawingSpec(color=(45, 95, 44), thickness=2, circle_radius=4), \n",
    "                             mp_drawing.DrawingSpec(color=(98, 188, 151), thickness=2, circle_radius=2)\n",
    "                             ) \n",
    "    # Lewa dłoń \n",
    "    mp_drawing.draw_landmarks(image, results.left_hand_landmarks, mp_holistic.HAND_CONNECTIONS, \n",
    "                             mp_drawing.DrawingSpec(color=(73, 37, 245), thickness=3, circle_radius=4), \n",
    "                             mp_drawing.DrawingSpec(color=(117, 103, 250), thickness=3, circle_radius=2)\n",
    "                             ) \n",
    "    # Prawa dłoń   \n",
    "    mp_drawing.draw_landmarks(image, results.right_hand_landmarks, mp_holistic.HAND_CONNECTIONS, \n",
    "                             mp_drawing.DrawingSpec(color=(165, 93, 113), thickness=3, circle_radius=4), \n",
    "                             mp_drawing.DrawingSpec(color=(229, 197, 211), thickness=3, circle_radius=2)\n",
    "                             ) "
   ]
  },
  {
   "cell_type": "code",
   "execution_count": 6,
   "metadata": {},
   "outputs": [],
   "source": [
    "def extract_keypoints(results):\n",
    "    pose = np.array([[res.x, res.y, res.z, res.visibility] for res in results.pose_landmarks.landmark]).flatten() if results.pose_landmarks else np.zeros(33*4)\n",
    "    lh = np.array([[res.x, res.y, res.z] for res in results.left_hand_landmarks.landmark]).flatten() if results.left_hand_landmarks else np.zeros(21*3)\n",
    "    rh = np.array([[res.x, res.y, res.z] for res in results.right_hand_landmarks.landmark]).flatten() if results.right_hand_landmarks else np.zeros(21*3)\n",
    "    return np.concatenate([pose, lh, rh])"
   ]
  },
  {
   "cell_type": "code",
   "execution_count": 10,
   "metadata": {},
   "outputs": [],
   "source": [
    "# Ścieżka do zapisywania danych\n",
    "DATA_PATH = os.path.join('MP_Data')\n",
    "\n",
    "# Lista akcji do rozpoznawania\n",
    "actions = np.array(['car', 'coffee', 'face', 'fall', 'friday', 'gold', 'goodbye', 'heart', 'hello', 'iloveyou', 'key', 'monday', 'music', 'phone', \n",
    "                    'pretty', 'saturday', 'spring', 'summer', 'sunday', 'tea', 'thanks', 'thursday', 'tuesday', 'wednesday', 'winter'])\n",
    "\n",
    "# Licznik wideo i klatek\n",
    "videos = 30                                             \n",
    "frames = 30  \n",
    "\n",
    "# Folder startowy                                           \n",
    "start_folder = 120              "
   ]
  },
  {
   "cell_type": "code",
   "execution_count": 10,
   "metadata": {},
   "outputs": [],
   "source": [
    "def createFolders():\n",
    "    for action in actions:\n",
    "        action_path = os.path.join(DATA_PATH, action)\n",
    "        if os.path.exists(action_path) and os.path.isdir(action_path) and os.listdir(action_path):\n",
    "            dirmax = np.max(np.array(os.listdir(action_path)).astype(int))\n",
    "        else:\n",
    "            dirmax = -1\n",
    "        for sequence in range(videos):\n",
    "            try: \n",
    "                os.makedirs(os.path.join(DATA_PATH, action, str(dirmax + sequence + 1)))\n",
    "            except Exception as e:\n",
    "                print(f\"Error creating folder: {e}\")\n",
    "\n",
    "# createFolders()\n"
   ]
  },
  {
   "cell_type": "code",
   "execution_count": 36,
   "metadata": {},
   "outputs": [],
   "source": [
    "cap = cv2.VideoCapture(0)\n",
    "\n",
    "# Zbieranie danych\n",
    "def collect_data():\n",
    "    with mp_holistic.Holistic(min_detection_confidence=0.5, min_tracking_confidence=0.5) as holistic:\n",
    "\n",
    "        for sequence in range(start_folder, start_folder + videos):                         # Pętla przez video\n",
    "            for frame_num in range(frames):                                                 # Pętla przez frames\n",
    "\n",
    "                ret, frame = cap.read()                                                     # Przechwytywanie wideo\n",
    "                image, results = mediapipe_detection(frame, holistic)                       # Detekcja\n",
    "\n",
    "                draw_styled_landmarks(image, results)                                       # Rysowanie punktów orientacyjnych\n",
    "                \n",
    "                # Wyświetlanie teksu\n",
    "                cv2.rectangle(image, (0, 0), (200, 25), (0, 0, 0), -1)\n",
    "                cv2.putText(image, '{} nr: {}'.format(action, sequence), (5, 15), cv2.FONT_HERSHEY_SIMPLEX, 0.5, (255, 255, 255), 1, cv2.LINE_AA)\n",
    "                if frame_num == 0: \n",
    "                    cv2.putText(image, 'NEXT', (200, 220), cv2.FONT_HERSHEY_SIMPLEX, 2, (0, 255, 255), 4, cv2.LINE_AA)\n",
    "                    cv2.imshow('Data collector', image)\n",
    "                    cv2.waitKey(700)\n",
    "                else: \n",
    "                    cv2.imshow('Data collector', image)\n",
    "                \n",
    "                # Zapis punktów kluczowych\n",
    "                keypoints = extract_keypoints(results)                                      # Wyodrębnianie punktów\n",
    "                npy_path = os.path.join(DATA_PATH, action, str(sequence), str(frame_num))   # Ścieżka\n",
    "                try:\n",
    "                    np.save(npy_path, keypoints)                                            # Zapis\n",
    "                except Exception as e:\n",
    "                    print(f\"Error saving keypoints: {e}\")                                               \n",
    "                \n",
    "\n",
    "                # Przerwanie \n",
    "                if cv2.waitKey(10) & 0xFF == ord('q'):\n",
    "                    return\n",
    "                        \n",
    "        cap.release()\n",
    "        cv2.destroyAllWindows()\n",
    "        \n",
    "# 'car', 'coffee', 'face', 'fall', 'friday', 'gold', 'goodbye', 'heart', 'hello', 'iloveyou', 'key', 'monday', 'music', \n",
    "# 'phone', 'pretty', 'saturday', 'spring', 'summer', 'sunday', 'tea', 'thanks', 'thursday', 'tuesday', 'wednesday', 'winter'\n",
    "action = \"summer\"    # current action \n",
    "collect_data()\n"
   ]
  },
  {
   "cell_type": "code",
   "execution_count": 82,
   "metadata": {},
   "outputs": [],
   "source": [
    "cap.release()\n",
    "cv2.destroyAllWindows()"
   ]
  }
 ],
 "metadata": {
  "kernelspec": {
   "display_name": "Python 3",
   "language": "python",
   "name": "python3"
  },
  "language_info": {
   "codemirror_mode": {
    "name": "ipython",
    "version": 3
   },
   "file_extension": ".py",
   "mimetype": "text/x-python",
   "name": "python",
   "nbconvert_exporter": "python",
   "pygments_lexer": "ipython3",
   "version": "3.8.10"
  }
 },
 "nbformat": 4,
 "nbformat_minor": 2
}
